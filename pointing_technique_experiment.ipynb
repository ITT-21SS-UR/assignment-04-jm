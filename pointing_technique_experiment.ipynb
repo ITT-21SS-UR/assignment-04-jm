{
 "cells": [
  {
   "cell_type": "markdown",
   "id": "beautiful-secretary",
   "metadata": {},
   "source": [
    "# Pointing Technique Experiment"
   ]
  },
  {
   "cell_type": "markdown",
   "id": "qualified-participant",
   "metadata": {},
   "source": [
    "Description of the experiment design and initial analysis were done by Michael Meckl. Johannes Lorper helped in adjusting and improving parts of the visualizations and analysis."
   ]
  },
  {
   "cell_type": "markdown",
   "id": "attempted-installation",
   "metadata": {},
   "source": [
    "## Experiment Design\n",
    "In this study we compared two mouse pointing techniques regarding their pointing performance: a normal mouse cursor and the so-called \"BubbleCursor\"[1] which shows a circle-shaped area around the mouse cursor and dynamically resizes it's area based on the distance to the surrounding targets so that only one target (the closest one) is selectable at any time. The latter has been introduced in the paper \"The bubble cursor: enhancing target acquisition by dynamic resizing of the cursor's activation area\" by Grossman and Balakrishnan where they have shown that this technique significantly outperforms pointing with a normal mouse cursor.\n",
    "Our goal was to compare these two techniques in a simple pointing experiment and to verify the BubbleCursor's superiority.\n",
    "Therefore, our hypothesis were:\n",
    "\n",
    "1. H1: \"Participants using the BubbleCursor finish their tasks faster than with a normal mouse cursor\"\n",
    "   \n",
    "   H0: \"There is either no difference between the two pointing techniques regarding the time needed for the tasks or participants using the BubbleCursor finish their tasks slower than with a normal mouse cursor\"\n",
    "\n",
    "\n",
    "2. H1: \"Participants using the BubbleCursor make less mistakes during their tasks than with a normal mouse cursor\"\n",
    "\n",
    "   H0: \"There is either no difference between the two pointing techniques regarding the amount of errors or participants using the BubbleCursor make more errors during their tasks than with a normal mouse cursor\"\n",
    "\n",
    "\n",
    "The dependent variables were the time needed to finish the tasks and the amount of errors (i.e. wrong targets selected) during the task. The independent variables were the pointing technique that was used (normal mouse cursor or BubbleCursor) and the size of the targets.\n",
    "\n",
    "We used a within-subjects design with two conditions. Each participant started with one of the two pointing techniques (either normal or BubbleCursor) and clicked on the highlighted targets as fast as he could. After each round the circle size was changed (small and large circles). After finishing the first round, participants restarted the experiment with the other pointing technique and performed the same tasks with the varying circle sizes. All conditions were counterbalanced. The mouse cursor position was reset to the top left corner after each task.\n",
    "\n",
    "\n",
    "Due to time restrictions, the study was conducted by only 4 participants ranging in age from 22 to 27 years (m = 24,5, sd = 2,5). All participants were male and studied media informatics at the University of Regensburg. \n",
    "\n",
    "\n",
    "\n",
    "[1] Grossman, T., & Balakrishnan, R. (2005, April). The bubble cursor: enhancing target acquisition by dynamic resizing of the cursor's activation area. In Proceedings of the SIGCHI conference on Human factors in computing systems (pp. 281-290)."
   ]
  },
  {
   "cell_type": "markdown",
   "id": "guilty-mediterranean",
   "metadata": {},
   "source": [
    "## Experiment Analysis:"
   ]
  },
  {
   "cell_type": "markdown",
   "id": "convenient-rapid",
   "metadata": {},
   "source": [
    "### Load and activate pycodestyle"
   ]
  },
  {
   "cell_type": "code",
   "execution_count": 1,
   "id": "ongoing-teddy",
   "metadata": {},
   "outputs": [],
   "source": [
    "%load_ext pycodestyle_magic\n",
    "%pycodestyle_on"
   ]
  },
  {
   "cell_type": "markdown",
   "id": "atlantic-hollow",
   "metadata": {},
   "source": [
    "### Import libraries and read-in data"
   ]
  },
  {
   "cell_type": "code",
   "execution_count": 102,
   "id": "unauthorized-galaxy",
   "metadata": {},
   "outputs": [
    {
     "data": {
      "text/html": [
       "<div>\n",
       "<style scoped>\n",
       "    .dataframe tbody tr th:only-of-type {\n",
       "        vertical-align: middle;\n",
       "    }\n",
       "\n",
       "    .dataframe tbody tr th {\n",
       "        vertical-align: top;\n",
       "    }\n",
       "\n",
       "    .dataframe thead th {\n",
       "        text-align: right;\n",
       "    }\n",
       "</style>\n",
       "<table border=\"1\" class=\"dataframe\">\n",
       "  <thead>\n",
       "    <tr style=\"text-align: right;\">\n",
       "      <th></th>\n",
       "      <th>timestamp</th>\n",
       "      <th>participantID</th>\n",
       "      <th>condition</th>\n",
       "      <th>pointerPositionsPerTarget</th>\n",
       "      <th>timesPerTargetInS</th>\n",
       "      <th>startTimeAsUnix</th>\n",
       "      <th>endTimeAsUnix</th>\n",
       "      <th>timeTillFinishedInS</th>\n",
       "      <th>missedClickCount</th>\n",
       "      <th>bubblePointingTechnique</th>\n",
       "    </tr>\n",
       "  </thead>\n",
       "  <tbody>\n",
       "    <tr>\n",
       "      <th>0</th>\n",
       "      <td>1.620854e+09</td>\n",
       "      <td>1</td>\n",
       "      <td>0</td>\n",
       "      <td>[(604, 426), (72, 228), (454, 288), (582, 472)...</td>\n",
       "      <td>[0.921144962310791, 0.621910810470581, 0.72601...</td>\n",
       "      <td>1.620854e+09</td>\n",
       "      <td>1.620854e+09</td>\n",
       "      <td>10.241140</td>\n",
       "      <td>1</td>\n",
       "      <td>False</td>\n",
       "    </tr>\n",
       "    <tr>\n",
       "      <th>1</th>\n",
       "      <td>1.620855e+09</td>\n",
       "      <td>1</td>\n",
       "      <td>1</td>\n",
       "      <td>[(584, 434), (76, 234), (460, 290), (608, 508)...</td>\n",
       "      <td>[0.9047195911407471, 0.8864741325378418, 0.682...</td>\n",
       "      <td>1.620854e+09</td>\n",
       "      <td>1.620855e+09</td>\n",
       "      <td>11.194603</td>\n",
       "      <td>0</td>\n",
       "      <td>False</td>\n",
       "    </tr>\n",
       "    <tr>\n",
       "      <th>2</th>\n",
       "      <td>1.620855e+09</td>\n",
       "      <td>1</td>\n",
       "      <td>0</td>\n",
       "      <td>[(598, 422), (104, 252), (442, 296), (608, 496...</td>\n",
       "      <td>[1.0539946556091309, 0.6872110366821289, 0.549...</td>\n",
       "      <td>1.620855e+09</td>\n",
       "      <td>1.620855e+09</td>\n",
       "      <td>11.015827</td>\n",
       "      <td>1</td>\n",
       "      <td>True</td>\n",
       "    </tr>\n",
       "    <tr>\n",
       "      <th>3</th>\n",
       "      <td>1.620855e+09</td>\n",
       "      <td>1</td>\n",
       "      <td>1</td>\n",
       "      <td>[(582, 422), (72, 240), (422, 272), (582, 488)...</td>\n",
       "      <td>[0.9423270225524902, 0.6724741458892822, 0.617...</td>\n",
       "      <td>1.620855e+09</td>\n",
       "      <td>1.620855e+09</td>\n",
       "      <td>9.433378</td>\n",
       "      <td>0</td>\n",
       "      <td>True</td>\n",
       "    </tr>\n",
       "    <tr>\n",
       "      <th>4</th>\n",
       "      <td>1.620855e+09</td>\n",
       "      <td>2</td>\n",
       "      <td>0</td>\n",
       "      <td>[(556, 408), (90, 254), (446, 282), (602, 488)...</td>\n",
       "      <td>[0.8467056751251221, 0.6772129535675049, 0.532...</td>\n",
       "      <td>1.620855e+09</td>\n",
       "      <td>1.620855e+09</td>\n",
       "      <td>9.388265</td>\n",
       "      <td>0</td>\n",
       "      <td>True</td>\n",
       "    </tr>\n",
       "    <tr>\n",
       "      <th>5</th>\n",
       "      <td>1.620855e+09</td>\n",
       "      <td>2</td>\n",
       "      <td>1</td>\n",
       "      <td>[(560, 382), (190, 262), (464, 256), (604, 478...</td>\n",
       "      <td>[0.9141600131988525, 0.6522562503814697, 0.539...</td>\n",
       "      <td>1.620855e+09</td>\n",
       "      <td>1.620855e+09</td>\n",
       "      <td>9.545784</td>\n",
       "      <td>0</td>\n",
       "      <td>True</td>\n",
       "    </tr>\n",
       "    <tr>\n",
       "      <th>6</th>\n",
       "      <td>1.620855e+09</td>\n",
       "      <td>2</td>\n",
       "      <td>0</td>\n",
       "      <td>[(582, 432), (68, 242), (470, 300), (598, 512)...</td>\n",
       "      <td>[0.9648449420928955, 0.8167593479156494, 0.625...</td>\n",
       "      <td>1.620855e+09</td>\n",
       "      <td>1.620855e+09</td>\n",
       "      <td>11.664961</td>\n",
       "      <td>2</td>\n",
       "      <td>False</td>\n",
       "    </tr>\n",
       "    <tr>\n",
       "      <th>7</th>\n",
       "      <td>1.620855e+09</td>\n",
       "      <td>2</td>\n",
       "      <td>1</td>\n",
       "      <td>[(580, 430), (74, 238), (470, 276), (604, 498)...</td>\n",
       "      <td>[0.5764017105102539, 0.6352441310882568, 0.596...</td>\n",
       "      <td>1.620855e+09</td>\n",
       "      <td>1.620855e+09</td>\n",
       "      <td>10.213669</td>\n",
       "      <td>2</td>\n",
       "      <td>False</td>\n",
       "    </tr>\n",
       "    <tr>\n",
       "      <th>8</th>\n",
       "      <td>1.620855e+09</td>\n",
       "      <td>3</td>\n",
       "      <td>0</td>\n",
       "      <td>[(579, 429), (117, 262), (417, 275), (595, 507...</td>\n",
       "      <td>[1.1778388023376465, 0.708127498626709, 0.6706...</td>\n",
       "      <td>1.620855e+09</td>\n",
       "      <td>1.620855e+09</td>\n",
       "      <td>9.975191</td>\n",
       "      <td>0</td>\n",
       "      <td>True</td>\n",
       "    </tr>\n",
       "    <tr>\n",
       "      <th>9</th>\n",
       "      <td>1.620855e+09</td>\n",
       "      <td>3</td>\n",
       "      <td>1</td>\n",
       "      <td>[(528, 426), (140, 240), (427, 295), (595, 551...</td>\n",
       "      <td>[1.2620413303375244, 0.6607832908630371, 0.560...</td>\n",
       "      <td>1.620855e+09</td>\n",
       "      <td>1.620855e+09</td>\n",
       "      <td>9.879809</td>\n",
       "      <td>0</td>\n",
       "      <td>True</td>\n",
       "    </tr>\n",
       "    <tr>\n",
       "      <th>10</th>\n",
       "      <td>1.620855e+09</td>\n",
       "      <td>3</td>\n",
       "      <td>0</td>\n",
       "      <td>[(596, 441), (93, 239), (442, 283), (601, 508)...</td>\n",
       "      <td>[0.9213669300079346, 0.5535998344421387, 0.426...</td>\n",
       "      <td>1.620855e+09</td>\n",
       "      <td>1.620855e+09</td>\n",
       "      <td>8.230611</td>\n",
       "      <td>1</td>\n",
       "      <td>False</td>\n",
       "    </tr>\n",
       "    <tr>\n",
       "      <th>11</th>\n",
       "      <td>1.620855e+09</td>\n",
       "      <td>3</td>\n",
       "      <td>1</td>\n",
       "      <td>[(586, 435), (75, 235), (469, 298), (613, 499)...</td>\n",
       "      <td>[0.6316089630126953, 0.7656619548797607, 0.594...</td>\n",
       "      <td>1.620855e+09</td>\n",
       "      <td>1.620855e+09</td>\n",
       "      <td>8.920625</td>\n",
       "      <td>0</td>\n",
       "      <td>False</td>\n",
       "    </tr>\n",
       "    <tr>\n",
       "      <th>12</th>\n",
       "      <td>1.620855e+09</td>\n",
       "      <td>4</td>\n",
       "      <td>0</td>\n",
       "      <td>[(582, 443), (84, 231), (456, 292), (600, 506)...</td>\n",
       "      <td>[0.7953212261199951, 0.7414712905883789, 0.583...</td>\n",
       "      <td>1.620855e+09</td>\n",
       "      <td>1.620855e+09</td>\n",
       "      <td>8.741049</td>\n",
       "      <td>1</td>\n",
       "      <td>False</td>\n",
       "    </tr>\n",
       "    <tr>\n",
       "      <th>13</th>\n",
       "      <td>1.620855e+09</td>\n",
       "      <td>4</td>\n",
       "      <td>1</td>\n",
       "      <td>[(600, 430), (81, 221), (479, 289), (611, 501)...</td>\n",
       "      <td>[0.7494602203369141, 0.559596061706543, 0.4433...</td>\n",
       "      <td>1.620855e+09</td>\n",
       "      <td>1.620855e+09</td>\n",
       "      <td>7.860184</td>\n",
       "      <td>1</td>\n",
       "      <td>False</td>\n",
       "    </tr>\n",
       "    <tr>\n",
       "      <th>14</th>\n",
       "      <td>1.620855e+09</td>\n",
       "      <td>4</td>\n",
       "      <td>0</td>\n",
       "      <td>[(592, 437), (123, 250), (395, 259), (594, 541...</td>\n",
       "      <td>[0.8567006587982178, 0.5910675525665283, 0.441...</td>\n",
       "      <td>1.620855e+09</td>\n",
       "      <td>1.620855e+09</td>\n",
       "      <td>7.980283</td>\n",
       "      <td>1</td>\n",
       "      <td>True</td>\n",
       "    </tr>\n",
       "    <tr>\n",
       "      <th>15</th>\n",
       "      <td>1.620855e+09</td>\n",
       "      <td>4</td>\n",
       "      <td>1</td>\n",
       "      <td>[(617, 393), (123, 257), (500, 330), (590, 509...</td>\n",
       "      <td>[0.6945285797119141, 0.5466573238372803, 0.435...</td>\n",
       "      <td>1.620855e+09</td>\n",
       "      <td>1.620855e+09</td>\n",
       "      <td>8.684501</td>\n",
       "      <td>1</td>\n",
       "      <td>True</td>\n",
       "    </tr>\n",
       "  </tbody>\n",
       "</table>\n",
       "</div>"
      ],
      "text/plain": [
       "       timestamp  participantID  condition  \\\n",
       "0   1.620854e+09              1          0   \n",
       "1   1.620855e+09              1          1   \n",
       "2   1.620855e+09              1          0   \n",
       "3   1.620855e+09              1          1   \n",
       "4   1.620855e+09              2          0   \n",
       "5   1.620855e+09              2          1   \n",
       "6   1.620855e+09              2          0   \n",
       "7   1.620855e+09              2          1   \n",
       "8   1.620855e+09              3          0   \n",
       "9   1.620855e+09              3          1   \n",
       "10  1.620855e+09              3          0   \n",
       "11  1.620855e+09              3          1   \n",
       "12  1.620855e+09              4          0   \n",
       "13  1.620855e+09              4          1   \n",
       "14  1.620855e+09              4          0   \n",
       "15  1.620855e+09              4          1   \n",
       "\n",
       "                            pointerPositionsPerTarget  \\\n",
       "0   [(604, 426), (72, 228), (454, 288), (582, 472)...   \n",
       "1   [(584, 434), (76, 234), (460, 290), (608, 508)...   \n",
       "2   [(598, 422), (104, 252), (442, 296), (608, 496...   \n",
       "3   [(582, 422), (72, 240), (422, 272), (582, 488)...   \n",
       "4   [(556, 408), (90, 254), (446, 282), (602, 488)...   \n",
       "5   [(560, 382), (190, 262), (464, 256), (604, 478...   \n",
       "6   [(582, 432), (68, 242), (470, 300), (598, 512)...   \n",
       "7   [(580, 430), (74, 238), (470, 276), (604, 498)...   \n",
       "8   [(579, 429), (117, 262), (417, 275), (595, 507...   \n",
       "9   [(528, 426), (140, 240), (427, 295), (595, 551...   \n",
       "10  [(596, 441), (93, 239), (442, 283), (601, 508)...   \n",
       "11  [(586, 435), (75, 235), (469, 298), (613, 499)...   \n",
       "12  [(582, 443), (84, 231), (456, 292), (600, 506)...   \n",
       "13  [(600, 430), (81, 221), (479, 289), (611, 501)...   \n",
       "14  [(592, 437), (123, 250), (395, 259), (594, 541...   \n",
       "15  [(617, 393), (123, 257), (500, 330), (590, 509...   \n",
       "\n",
       "                                    timesPerTargetInS  startTimeAsUnix  \\\n",
       "0   [0.921144962310791, 0.621910810470581, 0.72601...     1.620854e+09   \n",
       "1   [0.9047195911407471, 0.8864741325378418, 0.682...     1.620854e+09   \n",
       "2   [1.0539946556091309, 0.6872110366821289, 0.549...     1.620855e+09   \n",
       "3   [0.9423270225524902, 0.6724741458892822, 0.617...     1.620855e+09   \n",
       "4   [0.8467056751251221, 0.6772129535675049, 0.532...     1.620855e+09   \n",
       "5   [0.9141600131988525, 0.6522562503814697, 0.539...     1.620855e+09   \n",
       "6   [0.9648449420928955, 0.8167593479156494, 0.625...     1.620855e+09   \n",
       "7   [0.5764017105102539, 0.6352441310882568, 0.596...     1.620855e+09   \n",
       "8   [1.1778388023376465, 0.708127498626709, 0.6706...     1.620855e+09   \n",
       "9   [1.2620413303375244, 0.6607832908630371, 0.560...     1.620855e+09   \n",
       "10  [0.9213669300079346, 0.5535998344421387, 0.426...     1.620855e+09   \n",
       "11  [0.6316089630126953, 0.7656619548797607, 0.594...     1.620855e+09   \n",
       "12  [0.7953212261199951, 0.7414712905883789, 0.583...     1.620855e+09   \n",
       "13  [0.7494602203369141, 0.559596061706543, 0.4433...     1.620855e+09   \n",
       "14  [0.8567006587982178, 0.5910675525665283, 0.441...     1.620855e+09   \n",
       "15  [0.6945285797119141, 0.5466573238372803, 0.435...     1.620855e+09   \n",
       "\n",
       "    endTimeAsUnix  timeTillFinishedInS  missedClickCount  \\\n",
       "0    1.620854e+09            10.241140                 1   \n",
       "1    1.620855e+09            11.194603                 0   \n",
       "2    1.620855e+09            11.015827                 1   \n",
       "3    1.620855e+09             9.433378                 0   \n",
       "4    1.620855e+09             9.388265                 0   \n",
       "5    1.620855e+09             9.545784                 0   \n",
       "6    1.620855e+09            11.664961                 2   \n",
       "7    1.620855e+09            10.213669                 2   \n",
       "8    1.620855e+09             9.975191                 0   \n",
       "9    1.620855e+09             9.879809                 0   \n",
       "10   1.620855e+09             8.230611                 1   \n",
       "11   1.620855e+09             8.920625                 0   \n",
       "12   1.620855e+09             8.741049                 1   \n",
       "13   1.620855e+09             7.860184                 1   \n",
       "14   1.620855e+09             7.980283                 1   \n",
       "15   1.620855e+09             8.684501                 1   \n",
       "\n",
       "    bubblePointingTechnique  \n",
       "0                     False  \n",
       "1                     False  \n",
       "2                      True  \n",
       "3                      True  \n",
       "4                      True  \n",
       "5                      True  \n",
       "6                     False  \n",
       "7                     False  \n",
       "8                      True  \n",
       "9                      True  \n",
       "10                    False  \n",
       "11                    False  \n",
       "12                    False  \n",
       "13                    False  \n",
       "14                     True  \n",
       "15                     True  "
      ]
     },
     "execution_count": 102,
     "metadata": {},
     "output_type": "execute_result"
    }
   ],
   "source": [
    "import pandas as pd\n",
    "import seaborn as sns\n",
    "from matplotlib import pyplot as plt\n",
    "from  matplotlib.ticker import FuncFormatter\n",
    "from scipy.stats import ttest_ind\n",
    "\n",
    "df_pointing_log = pd.read_csv('pointingExperimentLog.csv')\n",
    "df_pointing_log"
   ]
  },
  {
   "cell_type": "markdown",
   "id": "random-muscle",
   "metadata": {},
   "source": [
    "### Split data"
   ]
  },
  {
   "cell_type": "code",
   "execution_count": 111,
   "id": "balanced-metabolism",
   "metadata": {},
   "outputs": [],
   "source": [
    "times_condition_1 = df_pointing_log[df_pointing_log['condition'] == 0]['timeTillFinishedInS']\n",
    "times_condition_2 = df_pointing_log[df_pointing_log['condition'] == 1]['timeTillFinishedInS']\n",
    "errors_condition_1 = df_pointing_log[df_pointing_log['condition'] == 0]['missedClickCount']\n",
    "errors_condition_2 = df_pointing_log[df_pointing_log['condition'] == 1]['missedClickCount']\n",
    "# display(times_condition_1)\n",
    "\n",
    "times_bubble_cursor = df_pointing_log[df_pointing_log['bubblePointingTechnique'] == True]['timeTillFinishedInS']\n",
    "times_normal_cursor = df_pointing_log[df_pointing_log['bubblePointingTechnique'] == False]['timeTillFinishedInS']\n",
    "errors_bubble_cursor = df_pointing_log[df_pointing_log['bubblePointingTechnique'] == True]['missedClickCount']\n",
    "errors_normal_cursor = df_pointing_log[df_pointing_log['bubblePointingTechnique'] == False]['missedClickCount']\n",
    "# display(times_bubble_cursor)"
   ]
  },
  {
   "cell_type": "markdown",
   "id": "upset-glossary",
   "metadata": {},
   "source": [
    "### Barcharts for the needed times and the amount of errors"
   ]
  },
  {
   "cell_type": "code",
   "execution_count": 106,
   "id": "formed-syntax",
   "metadata": {},
   "outputs": [
    {
     "data": {
      "text/plain": [
       "Text(0.5, 1.0, 'Time needed per participant')"
      ]
     },
     "execution_count": 106,
     "metadata": {},
     "output_type": "execute_result"
    },
    {
     "data": {
      "image/png": "[encoded data removed]",
      "text/plain": [
       "<Figure size 432x288 with 1 Axes>"
      ]
     },
     "metadata": {
      "needs_background": "light"
     },
     "output_type": "display_data"
    }
   ],
   "source": [
    "ax = plt.axes()\n",
    "sns.barplot(data=df_pointing_log, x=\"participantID\", y=\"timeTillFinishedInS\", hue=\"bubblePointingTechnique\", \n",
    "            ax = ax, dodge = False)\n",
    "plt.gca().xaxis.set_major_formatter(FuncFormatter(lambda x, _: int(x)))\n",
    "ax.set_xlabel(\"participant id\")\n",
    "ax.set_ylabel(\"time in seconds\")\n",
    "ax.set_title(\"Time needed per participant\")"
   ]
  },
  {
   "cell_type": "code",
   "execution_count": 107,
   "id": "changing-resolution",
   "metadata": {},
   "outputs": [
    {
     "data": {
      "text/plain": [
       "Text(0.5, 1.0, 'Errors made per participant and condition')"
      ]
     },
     "execution_count": 107,
     "metadata": {},
     "output_type": "execute_result"
    },
    {
     "data": {
      "image/png": "[encoded data removed]",
      "text/plain": [
       "<Figure size 432x288 with 1 Axes>"
      ]
     },
     "metadata": {
      "needs_background": "light"
     },
     "output_type": "display_data"
    }
   ],
   "source": [
    "ax = plt.axes()\n",
    "sns.barplot(data=df_pointing_log, x=\"participantID\", y=\"missedClickCount\", hue=\"bubblePointingTechnique\", \n",
    "            ax = ax, dodge = False)\n",
    "# plt.gca().xaxis.set_major_formatter(FuncFormatter(lambda x, _: int(x)))\n",
    "ax.set_xlabel(\"participant id\")\n",
    "ax.set_ylabel(\"number of errors\")\n",
    "ax.set_title(\"Errors made per participant and condition\")"
   ]
  },
  {
   "cell_type": "code",
   "execution_count": 109,
   "id": "catholic-locking",
   "metadata": {},
   "outputs": [
    {
     "data": {
      "text/plain": [
       "<seaborn.axisgrid.FacetGrid at 0x7fe09132b940>"
      ]
     },
     "execution_count": 109,
     "metadata": {},
     "output_type": "execute_result"
    },
    {
     "data": {
      "image/png": "[encoded data removed]",
      "text/plain": [
       "<Figure size 852.875x360 with 2 Axes>"
      ]
     },
     "metadata": {
      "needs_background": "light"
     },
     "output_type": "display_data"
    }
   ],
   "source": [
    "sns.catplot(x=\"participantID\", y=\"timeTillFinishedInS\", hue=\"bubblePointingTechnique\",\n",
    "            col=\"condition\", kind=\"swarm\", data=df_pointing_log)"
   ]
  },
  {
   "cell_type": "markdown",
   "id": "indian-lending",
   "metadata": {},
   "source": [
    "### Statistical Analysis:"
   ]
  },
  {
   "cell_type": "code",
   "execution_count": null,
   "id": "cultural-department",
   "metadata": {},
   "outputs": [],
   "source": [
    "# TODO statt conditions hier die beiden pointing techniques überall vergleichen!!"
   ]
  },
  {
   "cell_type": "markdown",
   "id": "naval-horse",
   "metadata": {},
   "source": [
    "#### Overview of distribution for the needed time"
   ]
  },
  {
   "cell_type": "code",
   "execution_count": 112,
   "id": "understood-shower",
   "metadata": {},
   "outputs": [
    {
     "name": "stdout",
     "output_type": "stream",
     "text": [
      "Minimal time needed for condition 1: 7.980283260345459\n",
      "Maximal time needed for condition 1: 11.664960622787476\n",
      "Minimal time needed for condition 2: 7.8601837158203125\n",
      "Maximal time needed for condition 2: 11.194602727890015\n"
     ]
    }
   ],
   "source": [
    "print(f\"Minimal time needed for condition 1: {times_condition_1.min()}\")\n",
    "print(f\"Maximal time needed for condition 1: {times_condition_1.max()}\")\n",
    "print(f\"Minimal time needed for condition 2: {times_condition_2.min()}\")\n",
    "print(f\"Maximal time needed for condition 2: {times_condition_2.max()}\")"
   ]
  },
  {
   "cell_type": "code",
   "execution_count": 113,
   "id": "false-posting",
   "metadata": {},
   "outputs": [
    {
     "name": "stdout",
     "output_type": "stream",
     "text": [
      "Mean for needed time at condition 1: 9.654665976762772\n",
      "Standard deviation for needed time at condition 1: 1.3135495889679538\n",
      "Mean for needed time at condition 2: 9.466569125652313\n",
      "Standard deviation for needed time at condition 2: 1.0150694064677546\n"
     ]
    }
   ],
   "source": [
    "print(f\"Mean for needed time at condition 1: {times_condition_1.mean()}\")\n",
    "print(f\"Standard deviation for needed time at condition 1: {times_condition_1.std()}\")\n",
    "print(f\"Mean for needed time at condition 2: {times_condition_2.mean()}\")\n",
    "print(f\"Standard deviation for needed time at condition 2: {times_condition_2.std()}\")"
   ]
  },
  {
   "cell_type": "code",
   "execution_count": 114,
   "id": "charming-proceeding",
   "metadata": {},
   "outputs": [
    {
     "data": {
      "text/plain": [
       "Text(0.5, 1.0, 'Times needed per condition')"
      ]
     },
     "execution_count": 114,
     "metadata": {},
     "output_type": "execute_result"
    },
    {
     "data": {
      "image/png": "[encoded data removed]",
      "text/plain": [
       "<Figure size 432x288 with 1 Axes>"
      ]
     },
     "metadata": {
      "needs_background": "light"
     },
     "output_type": "display_data"
    }
   ],
   "source": [
    "ax = plt.axes()\n",
    "sns.boxplot(data=df_pointing_log, x=\"condition\", y=\"timeTillFinishedInS\")\n",
    "ax.set_ylabel(\"time needed in seconds\")\n",
    "ax.set_title(\"Times needed per condition\")"
   ]
  },
  {
   "cell_type": "markdown",
   "id": "cutting-piece",
   "metadata": {},
   "source": [
    "#### Overview of distribution for the amount of errors"
   ]
  },
  {
   "cell_type": "code",
   "execution_count": 115,
   "id": "personalized-privilege",
   "metadata": {},
   "outputs": [
    {
     "name": "stdout",
     "output_type": "stream",
     "text": [
      "Minimal amount of errors for condition 1: 0\n",
      "Maximal amount of errors for condition 1: 2\n",
      "Minimal amount of errors for condition 2: 0\n",
      "Maximal amount of errors for condition 2: 2\n"
     ]
    }
   ],
   "source": [
    "print(f\"Minimal amount of errors for condition 1: {errors_condition_1.min()}\")\n",
    "print(f\"Maximal amount of errors for condition 1: {errors_condition_1.max()}\")\n",
    "print(f\"Minimal amount of errors for condition 2: {errors_condition_2.min()}\")\n",
    "print(f\"Maximal amount of errors for condition 2: {errors_condition_2.max()}\")"
   ]
  },
  {
   "cell_type": "code",
   "execution_count": 116,
   "id": "northern-palace",
   "metadata": {},
   "outputs": [
    {
     "name": "stdout",
     "output_type": "stream",
     "text": [
      "Mean errors at condition 1: 0.875\n",
      "Standard deviation errors at condition 1: 0.6408699444616557\n",
      "Mean errors at condition 2: 0.5\n",
      "Standard deviation errors at condition 2: 0.7559289460184544\n"
     ]
    }
   ],
   "source": [
    "print(f\"Mean errors at condition 1: {errors_condition_1.mean()}\")\n",
    "print(f\"Standard deviation errors at condition 1: {errors_condition_1.std()}\")\n",
    "print(f\"Mean errors at condition 2: {errors_condition_2.mean()}\")\n",
    "print(f\"Standard deviation errors at condition 2: {errors_condition_2.std()}\")"
   ]
  },
  {
   "cell_type": "code",
   "execution_count": 117,
   "id": "tired-fleece",
   "metadata": {},
   "outputs": [
    {
     "data": {
      "text/plain": [
       "Text(0.5, 1.0, 'Number or errors per condition')"
      ]
     },
     "execution_count": 117,
     "metadata": {},
     "output_type": "execute_result"
    },
    {
     "data": {
      "image/png": "[encoded data removed]",
      "text/plain": [
       "<Figure size 432x288 with 1 Axes>"
      ]
     },
     "metadata": {
      "needs_background": "light"
     },
     "output_type": "display_data"
    }
   ],
   "source": [
    "ax = plt.axes()\n",
    "sns.boxplot(data=df_pointing_log, x=\"condition\", y=\"missedClickCount\")\n",
    "ax.set_ylabel(\"number of errors\")\n",
    "ax.set_title(\"Number or errors per condition\")"
   ]
  },
  {
   "cell_type": "markdown",
   "id": "juvenile-worse",
   "metadata": {},
   "source": [
    "#### T-Tests for time and errors:"
   ]
  },
  {
   "cell_type": "code",
   "execution_count": 118,
   "id": "communist-being",
   "metadata": {},
   "outputs": [
    {
     "name": "stdout",
     "output_type": "stream",
     "text": [
      "The calculated t-statistic for the needed time is -0.24749837040062647 and the calculated two-tailed p-value is 0.8081154223066443\n"
     ]
    }
   ],
   "source": [
    "(t_statistic, p_value) = ttest_ind(times_bubble_cursor, times_normal_cursor)\n",
    "print(f\"The calculated t-statistic for the needed time is {t_statistic} and the calculated two-tailed p-value is {p_value}\")"
   ]
  },
  {
   "cell_type": "code",
   "execution_count": 120,
   "id": "postal-insulin",
   "metadata": {},
   "outputs": [
    {
     "name": "stdout",
     "output_type": "stream",
     "text": [
      "The calculated t-statistic for the amount of errors is -1.9296124624698994 and the calculated two-tailed p-value is 0.074172867682068\n"
     ]
    }
   ],
   "source": [
    "(t_statistic, p_value) = ttest_ind(errors_bubble_cursor, errors_normal_cursor)\n",
    "print(f\"The calculated t-statistic for the amount of errors is {t_statistic} and the calculated two-tailed p-value is {p_value}\")"
   ]
  },
  {
   "cell_type": "code",
   "execution_count": 122,
   "id": "convinced-passenger",
   "metadata": {},
   "outputs": [],
   "source": [
    "# TODO one sided p value?\n",
    "# (t_statistic, p_value) = ttest_ind(times_bubble_cursor, times_normal_cursor, alternative='greater')\n",
    "# print(f\"The calculated t-statistic for the needed time is {t_statistic} and the calculated two-tailed p-value is {p_value}\")"
   ]
  },
  {
   "cell_type": "markdown",
   "id": "vietnamese-bouquet",
   "metadata": {},
   "source": [
    "## Discussion:"
   ]
  },
  {
   "cell_type": "markdown",
   "id": "quiet-chambers",
   "metadata": {},
   "source": [
    "Our study did not find a significant difference in the time performance between the bubble cursor and the normal cursor (t=-0.247, p=0.808) as well as in the amount of errors between the two techniques t=-1.930, p=0.074). Therefor we cannot reject our null hypothesis. This may be caused by the low number of participants as the four participants were almost identical in speed."
   ]
  }
 ],
 "metadata": {
  "kernelspec": {
   "display_name": "Python 3",
   "language": "python",
   "name": "python3"
  },
  "language_info": {
   "codemirror_mode": {
    "name": "ipython",
    "version": 3
   },
   "file_extension": ".py",
   "mimetype": "text/x-python",
   "name": "python",
   "nbconvert_exporter": "python",
   "pygments_lexer": "ipython3",
   "version": "3.9.2"
  }
 },
 "nbformat": 4,
 "nbformat_minor": 5
}
