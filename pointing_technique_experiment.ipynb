{
 "cells": [
  {
   "cell_type": "markdown",
   "id": "beautiful-secretary",
   "metadata": {},
   "source": [
    "# Pointing Technique Experiment"
   ]
  },
  {
   "cell_type": "markdown",
   "id": "therapeutic-remains",
   "metadata": {},
   "source": [
    "Description of the experiment design and initial analysis were done by Michael Meckl. Johannes Lorper helped in adjusting and improving parts of the visualizations and analysis."
   ]
  },
  {
   "cell_type": "markdown",
   "id": "attempted-installation",
   "metadata": {},
   "source": [
    "## Experiment Design\n",
    "In this study we compared two mouse pointing techniques regarding their pointing performance: a normal mouse cursor and the so-called \"BubbleCursor\"[1] which shows a circle-shaped area around the mouse cursor and dynamically resizes it's area based on the distance to the surrounding targets so that only one target (the closest one) is selectable at any time. The latter has been introduced in the paper \"The bubble cursor: enhancing target acquisition by dynamic resizing of the cursor's activation area\" by Grossman and Balakrishnan where they have shown that this technique significantly outperforms pointing with a normal mouse cursor.\n",
    "Our goal was to compare these two techniques in a simple pointing experiment and to verify the BubbleCursor's superiority.\n",
    "Therefore, our hypothesis were:\n",
    "\n",
    "1. H1: \"Participants using the BubbleCursor finish their tasks faster than with a normal mouse cursor\"\n",
    "   \n",
    "   H0: \"There is either no difference between the two pointing techniques regarding the time needed for the tasks or participants using the BubbleCursor finish their tasks slower than with a normal mouse cursor\"\n",
    "\n",
    "\n",
    "2. H1: \"Participants using the BubbleCursor make less mistakes during their tasks than with a normal mouse cursor\"\n",
    "\n",
    "   H0: \"There is either no difference between the two pointing techniques regarding the amount of errors or participants using the BubbleCursor make more errors during their tasks than with a normal mouse cursor\"\n",
    "\n",
    "\n",
    "The dependent variables were the time needed to finish the tasks and the amount of errors (i.e. wrong targets selected) during the task. The independent variables were the pointing technique that was used (normal mouse cursor or BubbleCursor) and the size of the targets.\n",
    "\n",
    "We used a within-subjects design with four conditions. All conditions were counterbalanced.\n",
    "\n",
    "Condition 1: BubbleCursor and small circles (TODO größe angeben)\n",
    "\n",
    "Condition 2: Normal Cursor and small circles (px)\n",
    "\n",
    "Condition 3: BubbleCursor and large circles\n",
    "\n",
    "Condition 4: Normal Cursor and large circles (px)\n",
    "**TODO reihenfolge anpassen**\n",
    "\n",
    "\n",
    "\n",
    "Due to time restrictions, the study was conducted by only 4 participants ranging in age from 22 to 27 years (m = 24,5, sd = 2,5). All participants were male and studied media informatics at the University of Regensburg. \n",
    "\n",
    "\n",
    "\n",
    "[1] Grossman, T., & Balakrishnan, R. (2005, April). The bubble cursor: enhancing target acquisition by dynamic resizing of the cursor's activation area. In Proceedings of the SIGCHI conference on Human factors in computing systems (pp. 281-290)."
   ]
  },
  {
   "cell_type": "markdown",
   "id": "guilty-mediterranean",
   "metadata": {},
   "source": [
    "## Experiment Analysis:"
   ]
  },
  {
   "cell_type": "markdown",
   "id": "convenient-rapid",
   "metadata": {},
   "source": [
    "### Load and activate pycodestyle"
   ]
  },
  {
   "cell_type": "code",
   "execution_count": 1,
   "id": "ongoing-teddy",
   "metadata": {},
   "outputs": [],
   "source": [
    "%load_ext pycodestyle_magic\n",
    "%pycodestyle_on"
   ]
  },
  {
   "cell_type": "markdown",
   "id": "atlantic-hollow",
   "metadata": {},
   "source": [
    "### Import libraries and read-in data"
   ]
  },
  {
   "cell_type": "code",
   "execution_count": 86,
   "id": "unauthorized-galaxy",
   "metadata": {},
   "outputs": [
    {
     "data": {
      "text/html": [
       "<div>\n",
       "<style scoped>\n",
       "    .dataframe tbody tr th:only-of-type {\n",
       "        vertical-align: middle;\n",
       "    }\n",
       "\n",
       "    .dataframe tbody tr th {\n",
       "        vertical-align: top;\n",
       "    }\n",
       "\n",
       "    .dataframe thead th {\n",
       "        text-align: right;\n",
       "    }\n",
       "</style>\n",
       "<table border=\"1\" class=\"dataframe\">\n",
       "  <thead>\n",
       "    <tr style=\"text-align: right;\">\n",
       "      <th></th>\n",
       "      <th>timestamp</th>\n",
       "      <th>participantID</th>\n",
       "      <th>condition</th>\n",
       "      <th>pointerStartPosition</th>\n",
       "      <th>pointerEndPosition</th>\n",
       "      <th>startTimeInMS</th>\n",
       "      <th>endTimeInMS</th>\n",
       "      <th>timeTillFinishedInMs</th>\n",
       "      <th>missedClickCount</th>\n",
       "      <th>pointerPositionsPerTarget</th>\n",
       "      <th>timeTillFinishedInS</th>\n",
       "      <th>timesPerTarget</th>\n",
       "    </tr>\n",
       "  </thead>\n",
       "  <tbody>\n",
       "    <tr>\n",
       "      <th>0</th>\n",
       "      <td>1.620852e+09</td>\n",
       "      <td>1</td>\n",
       "      <td>1</td>\n",
       "      <td>NaN</td>\n",
       "      <td>NaN</td>\n",
       "      <td>1.620852e+09</td>\n",
       "      <td>1.620852e+09</td>\n",
       "      <td>NaN</td>\n",
       "      <td>0</td>\n",
       "      <td>[(388, 114), (262, 254), (260, 470), (650, 326...</td>\n",
       "      <td>9.395824</td>\n",
       "      <td>[0.7473127841949463, 1.8460261821746826, 0.555...</td>\n",
       "    </tr>\n",
       "    <tr>\n",
       "      <th>1</th>\n",
       "      <td>1.620852e+09</td>\n",
       "      <td>2</td>\n",
       "      <td>1</td>\n",
       "      <td>NaN</td>\n",
       "      <td>NaN</td>\n",
       "      <td>1.620852e+09</td>\n",
       "      <td>1.620852e+09</td>\n",
       "      <td>NaN</td>\n",
       "      <td>0</td>\n",
       "      <td>[(388, 116), (292, 272), (268, 488), (674, 286...</td>\n",
       "      <td>9.466931</td>\n",
       "      <td>[1.110811471939087, 0.8715128898620605, 0.6492...</td>\n",
       "    </tr>\n",
       "  </tbody>\n",
       "</table>\n",
       "</div>"
      ],
      "text/plain": [
       "      timestamp  participantID  condition  pointerStartPosition  \\\n",
       "0  1.620852e+09              1          1                   NaN   \n",
       "1  1.620852e+09              2          1                   NaN   \n",
       "\n",
       "   pointerEndPosition  startTimeInMS   endTimeInMS  timeTillFinishedInMs  \\\n",
       "0                 NaN   1.620852e+09  1.620852e+09                   NaN   \n",
       "1                 NaN   1.620852e+09  1.620852e+09                   NaN   \n",
       "\n",
       "   missedClickCount                          pointerPositionsPerTarget  \\\n",
       "0                 0  [(388, 114), (262, 254), (260, 470), (650, 326...   \n",
       "1                 0  [(388, 116), (292, 272), (268, 488), (674, 286...   \n",
       "\n",
       "   timeTillFinishedInS                                     timesPerTarget  \n",
       "0             9.395824  [0.7473127841949463, 1.8460261821746826, 0.555...  \n",
       "1             9.466931  [1.110811471939087, 0.8715128898620605, 0.6492...  "
      ]
     },
     "execution_count": 86,
     "metadata": {},
     "output_type": "execute_result"
    }
   ],
   "source": [
    "import pandas as pd\n",
    "import seaborn as sns\n",
    "from matplotlib import pyplot as plt\n",
    "from  matplotlib.ticker import FuncFormatter\n",
    "from scipy.stats import ttest_ind\n",
    "\n",
    "df_pointing_log = pd.read_csv('pointingExperimentLog.csv')\n",
    "df_pointing_log"
   ]
  },
  {
   "cell_type": "markdown",
   "id": "random-muscle",
   "metadata": {},
   "source": [
    "### Split data"
   ]
  },
  {
   "cell_type": "code",
   "execution_count": null,
   "id": "intense-request",
   "metadata": {},
   "outputs": [],
   "source": [
    "# TODO auch noch zwischen pointing technique unterscheiden!!!  -> wichtig für t tests unten\n",
    "# außerdem 4 conditions!"
   ]
  },
  {
   "cell_type": "code",
   "execution_count": 87,
   "id": "balanced-metabolism",
   "metadata": {},
   "outputs": [],
   "source": [
    "times_condition_1 = df_pointing_log[df_pointing_log['condition'] == 1]['timeTillFinishedInS']\n",
    "times_condition_2 = df_pointing_log[df_pointing_log['condition'] == 2]['timeTillFinishedInS']\n",
    "errors_condition_1 = df_pointing_log[df_pointing_log['condition'] == 1]['missedClickCount']\n",
    "errors_condition_2 = df_pointing_log[df_pointing_log['condition'] == 2]['missedClickCount']\n",
    "# display(times_condition_1)\n",
    "\n",
    "# TODO\n",
    "# times_bubble_cursor = \n",
    "# times_normal_cursor = \n",
    "# errors_bubble_cursor = \n",
    "# errors_normal_cursor = "
   ]
  },
  {
   "cell_type": "markdown",
   "id": "alone-dodge",
   "metadata": {},
   "source": [
    "### Show visualizations for each participant"
   ]
  },
  {
   "cell_type": "code",
   "execution_count": 91,
   "id": "breeding-needle",
   "metadata": {},
   "outputs": [
    {
     "data": {
      "text/html": [
       "<div>\n",
       "<style scoped>\n",
       "    .dataframe tbody tr th:only-of-type {\n",
       "        vertical-align: middle;\n",
       "    }\n",
       "\n",
       "    .dataframe tbody tr th {\n",
       "        vertical-align: top;\n",
       "    }\n",
       "\n",
       "    .dataframe thead th {\n",
       "        text-align: right;\n",
       "    }\n",
       "</style>\n",
       "<table border=\"1\" class=\"dataframe\">\n",
       "  <thead>\n",
       "    <tr style=\"text-align: right;\">\n",
       "      <th></th>\n",
       "      <th>timestamp</th>\n",
       "      <th>participantID</th>\n",
       "      <th>condition</th>\n",
       "      <th>pointerStartPosition</th>\n",
       "      <th>pointerEndPosition</th>\n",
       "      <th>startTimeInMS</th>\n",
       "      <th>endTimeInMS</th>\n",
       "      <th>timeTillFinishedInMs</th>\n",
       "      <th>missedClickCount</th>\n",
       "      <th>pointerPositionsPerTarget</th>\n",
       "      <th>timeTillFinishedInS</th>\n",
       "      <th>timesPerTarget</th>\n",
       "    </tr>\n",
       "  </thead>\n",
       "  <tbody>\n",
       "    <tr>\n",
       "      <th>0</th>\n",
       "      <td>1.620852e+09</td>\n",
       "      <td>1</td>\n",
       "      <td>1</td>\n",
       "      <td>NaN</td>\n",
       "      <td>NaN</td>\n",
       "      <td>1.620852e+09</td>\n",
       "      <td>1.620852e+09</td>\n",
       "      <td>NaN</td>\n",
       "      <td>0</td>\n",
       "      <td>[(388, 114), (262, 254), (260, 470), (650, 326...</td>\n",
       "      <td>9.395824</td>\n",
       "      <td>[0.7473127841949463, 1.8460261821746826, 0.555...</td>\n",
       "    </tr>\n",
       "  </tbody>\n",
       "</table>\n",
       "</div>"
      ],
      "text/plain": [
       "      timestamp  participantID  condition  pointerStartPosition  \\\n",
       "0  1.620852e+09              1          1                   NaN   \n",
       "\n",
       "   pointerEndPosition  startTimeInMS   endTimeInMS  timeTillFinishedInMs  \\\n",
       "0                 NaN   1.620852e+09  1.620852e+09                   NaN   \n",
       "\n",
       "   missedClickCount                          pointerPositionsPerTarget  \\\n",
       "0                 0  [(388, 114), (262, 254), (260, 470), (650, 326...   \n",
       "\n",
       "   timeTillFinishedInS                                     timesPerTarget  \n",
       "0             9.395824  [0.7473127841949463, 1.8460261821746826, 0.555...  "
      ]
     },
     "metadata": {},
     "output_type": "display_data"
    },
    {
     "name": "stdout",
     "output_type": "stream",
     "text": [
      "Number of errors for participant 1: 0    0\n",
      "Name: missedClickCount, dtype: int64\n",
      "Time needed for participant 1: 0    9.395824\n",
      "Name: timeTillFinishedInS, dtype: float64\n",
      "0    [0.7473127841949463, 1.8460261821746826, 0.555...\n",
      "Name: timesPerTarget, dtype: object\n"
     ]
    },
    {
     "name": "stderr",
     "output_type": "stream",
     "text": [
      "/home/michael/.local/lib/python3.9/site-packages/seaborn/_decorators.py:36: FutureWarning: Pass the following variable as a keyword arg: x. From version 0.12, the only valid positional argument will be `data`, and passing other arguments without an explicit keyword will result in an error or misinterpretation.\n",
      "  warnings.warn(\n",
      "/home/michael/.local/lib/python3.9/site-packages/seaborn/_decorators.py:36: FutureWarning: Pass the following variable as a keyword arg: x. From version 0.12, the only valid positional argument will be `data`, and passing other arguments without an explicit keyword will result in an error or misinterpretation.\n",
      "  warnings.warn(\n",
      "<ipython-input-91-7fefd8f9f15d>:16: UserWarning: Matplotlib is currently using module://ipykernel.pylab.backend_inline, which is a non-GUI backend, so cannot show the figure.\n",
      "  fig.show()\n"
     ]
    },
    {
     "data": {
      "text/html": [
       "<div>\n",
       "<style scoped>\n",
       "    .dataframe tbody tr th:only-of-type {\n",
       "        vertical-align: middle;\n",
       "    }\n",
       "\n",
       "    .dataframe tbody tr th {\n",
       "        vertical-align: top;\n",
       "    }\n",
       "\n",
       "    .dataframe thead th {\n",
       "        text-align: right;\n",
       "    }\n",
       "</style>\n",
       "<table border=\"1\" class=\"dataframe\">\n",
       "  <thead>\n",
       "    <tr style=\"text-align: right;\">\n",
       "      <th></th>\n",
       "      <th>timestamp</th>\n",
       "      <th>participantID</th>\n",
       "      <th>condition</th>\n",
       "      <th>pointerStartPosition</th>\n",
       "      <th>pointerEndPosition</th>\n",
       "      <th>startTimeInMS</th>\n",
       "      <th>endTimeInMS</th>\n",
       "      <th>timeTillFinishedInMs</th>\n",
       "      <th>missedClickCount</th>\n",
       "      <th>pointerPositionsPerTarget</th>\n",
       "      <th>timeTillFinishedInS</th>\n",
       "      <th>timesPerTarget</th>\n",
       "    </tr>\n",
       "  </thead>\n",
       "  <tbody>\n",
       "    <tr>\n",
       "      <th>1</th>\n",
       "      <td>1.620852e+09</td>\n",
       "      <td>2</td>\n",
       "      <td>1</td>\n",
       "      <td>NaN</td>\n",
       "      <td>NaN</td>\n",
       "      <td>1.620852e+09</td>\n",
       "      <td>1.620852e+09</td>\n",
       "      <td>NaN</td>\n",
       "      <td>0</td>\n",
       "      <td>[(388, 116), (292, 272), (268, 488), (674, 286...</td>\n",
       "      <td>9.466931</td>\n",
       "      <td>[1.110811471939087, 0.8715128898620605, 0.6492...</td>\n",
       "    </tr>\n",
       "  </tbody>\n",
       "</table>\n",
       "</div>"
      ],
      "text/plain": [
       "      timestamp  participantID  condition  pointerStartPosition  \\\n",
       "1  1.620852e+09              2          1                   NaN   \n",
       "\n",
       "   pointerEndPosition  startTimeInMS   endTimeInMS  timeTillFinishedInMs  \\\n",
       "1                 NaN   1.620852e+09  1.620852e+09                   NaN   \n",
       "\n",
       "   missedClickCount                          pointerPositionsPerTarget  \\\n",
       "1                 0  [(388, 116), (292, 272), (268, 488), (674, 286...   \n",
       "\n",
       "   timeTillFinishedInS                                     timesPerTarget  \n",
       "1             9.466931  [1.110811471939087, 0.8715128898620605, 0.6492...  "
      ]
     },
     "metadata": {},
     "output_type": "display_data"
    },
    {
     "name": "stdout",
     "output_type": "stream",
     "text": [
      "Number of errors for participant 2: 1    0\n",
      "Name: missedClickCount, dtype: int64\n",
      "Time needed for participant 2: 1    9.466931\n",
      "Name: timeTillFinishedInS, dtype: float64\n",
      "1    [1.110811471939087, 0.8715128898620605, 0.6492...\n",
      "Name: timesPerTarget, dtype: object\n"
     ]
    },
    {
     "name": "stderr",
     "output_type": "stream",
     "text": [
      "/home/michael/.local/lib/python3.9/site-packages/seaborn/_decorators.py:36: FutureWarning: Pass the following variable as a keyword arg: x. From version 0.12, the only valid positional argument will be `data`, and passing other arguments without an explicit keyword will result in an error or misinterpretation.\n",
      "  warnings.warn(\n",
      "/home/michael/.local/lib/python3.9/site-packages/seaborn/_decorators.py:36: FutureWarning: Pass the following variable as a keyword arg: x. From version 0.12, the only valid positional argument will be `data`, and passing other arguments without an explicit keyword will result in an error or misinterpretation.\n",
      "  warnings.warn(\n",
      "<ipython-input-91-7fefd8f9f15d>:16: UserWarning: Matplotlib is currently using module://ipykernel.pylab.backend_inline, which is a non-GUI backend, so cannot show the figure.\n",
      "  fig.show()\n"
     ]
    },
    {
     "data": {
      "image/png": "[encoded data removed]",
      "text/plain": [
       "<Figure size 432x288 with 2 Axes>"
      ]
     },
     "metadata": {
      "needs_background": "light"
     },
     "output_type": "display_data"
    },
    {
     "data": {
      "image/png": "[encoded data removed]",
      "text/plain": [
       "<Figure size 432x288 with 2 Axes>"
      ]
     },
     "metadata": {
      "needs_background": "light"
     },
     "output_type": "display_data"
    }
   ],
   "source": [
    "# TODO: maybe show point for each trial? -> 1 plot per participant with timeline over all tasks\n",
    "for i in range(1, df_pointing_log[\"participantID\"].count() + 1):\n",
    "    df_participant = df_pointing_log[df_pointing_log['participantID'] == i]\n",
    "    display(df_participant)\n",
    "    print(f\"Number of errors for participant {i}: {df_participant['missedClickCount']}\")\n",
    "    print(f\"Time needed for participant {i}: {df_participant['timeTillFinishedInS']}\")\n",
    "    times_per_target = df_participant['timesPerTarget']\n",
    "    print(times_per_target)\n",
    "    \n",
    "    # sns.catplot(x=\"condition\", y=\"timeTillFinishedInS\", kind=\"bar\", data=df_participant)\n",
    "    fig, ax =plt.subplots(1,2)\n",
    "    sns.countplot(df_participant['timeTillFinishedInS'], ax=ax[0])\n",
    "    sns.countplot(df_participant['missedClickCount'], ax=ax[1])\n",
    "    ax[0].set_title(f'Time needed by participant {i}')\n",
    "    ax[1].set_title(f'Errors made by participant {i}')\n",
    "    fig.show()"
   ]
  },
  {
   "cell_type": "markdown",
   "id": "upset-glossary",
   "metadata": {},
   "source": [
    "### Barcharts for the needed times and the amount of errors"
   ]
  },
  {
   "cell_type": "code",
   "execution_count": 92,
   "id": "formed-syntax",
   "metadata": {},
   "outputs": [
    {
     "data": {
      "text/plain": [
       "Text(0.5, 1.0, 'Time needed per participant')"
      ]
     },
     "execution_count": 92,
     "metadata": {},
     "output_type": "execute_result"
    },
    {
     "data": {
      "image/png": "[encoded data removed]",
      "text/plain": [
       "<Figure size 432x288 with 1 Axes>"
      ]
     },
     "metadata": {
      "needs_background": "light"
     },
     "output_type": "display_data"
    }
   ],
   "source": [
    "ax = plt.axes()\n",
    "sns.barplot(data=df_pointing_log, x=\"participantID\", y=\"timeTillFinishedInS\", hue=\"condition\", \n",
    "            ax = ax, dodge = False)\n",
    "plt.gca().xaxis.set_major_formatter(FuncFormatter(lambda x, _: int(x)))\n",
    "ax.set_xlabel(\"participant id\")\n",
    "ax.set_ylabel(\"time in seconds\")\n",
    "ax.set_title(\"Time needed per participant\")"
   ]
  },
  {
   "cell_type": "code",
   "execution_count": 93,
   "id": "changing-resolution",
   "metadata": {},
   "outputs": [
    {
     "data": {
      "text/plain": [
       "Text(0.5, 1.0, 'Errors made per participant and condition')"
      ]
     },
     "execution_count": 93,
     "metadata": {},
     "output_type": "execute_result"
    },
    {
     "data": {
      "image/png": "[encoded data removed]",
      "text/plain": [
       "<Figure size 432x288 with 1 Axes>"
      ]
     },
     "metadata": {
      "needs_background": "light"
     },
     "output_type": "display_data"
    }
   ],
   "source": [
    "ax = plt.axes()\n",
    "sns.barplot(data=df_pointing_log, x=\"participantID\", y=\"missedClickCount\", hue=\"condition\", \n",
    "            ax = ax, dodge = False)\n",
    "# plt.gca().xaxis.set_major_formatter(FuncFormatter(lambda x, _: int(x)))\n",
    "ax.set_xlabel(\"participant id\")\n",
    "ax.set_ylabel(\"number of errors\")\n",
    "ax.set_title(\"Errors made per participant and condition\")"
   ]
  },
  {
   "cell_type": "code",
   "execution_count": 65,
   "id": "catholic-locking",
   "metadata": {},
   "outputs": [
    {
     "data": {
      "text/plain": [
       "<seaborn.axisgrid.FacetGrid at 0x7fe09191e850>"
      ]
     },
     "execution_count": 65,
     "metadata": {},
     "output_type": "execute_result"
    },
    {
     "data": {
      "image/png": "[encoded data removed]",
      "text/plain": [
       "<Figure size 720x360 with 2 Axes>"
      ]
     },
     "metadata": {
      "needs_background": "light"
     },
     "output_type": "display_data"
    }
   ],
   "source": [
    "sns.catplot(x=\"participantID\", y=\"timeTillFinishedInS\", hue=\"condition\",\n",
    "            col=\"condition\", kind=\"swarm\", data=df_pointing_log)\n",
    "# TODO nutzen um für jeden durchgang die zeit anzuzeigen?"
   ]
  },
  {
   "cell_type": "markdown",
   "id": "indian-lending",
   "metadata": {},
   "source": [
    "### Statistical Analysis:"
   ]
  },
  {
   "cell_type": "code",
   "execution_count": null,
   "id": "cultural-department",
   "metadata": {},
   "outputs": [],
   "source": [
    "# TODO statt conditions hier die beiden pointing techniques überall vergleichen!!"
   ]
  },
  {
   "cell_type": "markdown",
   "id": "naval-horse",
   "metadata": {},
   "source": [
    "#### Overview of distribution for the needed time"
   ]
  },
  {
   "cell_type": "code",
   "execution_count": 53,
   "id": "understood-shower",
   "metadata": {},
   "outputs": [
    {
     "name": "stdout",
     "output_type": "stream",
     "text": [
      "Minimal time needed for condition 1: 8.162284851074219\n",
      "Maximal time needed for condition 1: 8.162284851074219\n",
      "Minimal time needed for condition 2: 8.162284851074219\n",
      "Maximal time needed for condition 2: 8.162284851074219\n"
     ]
    }
   ],
   "source": [
    "print(f\"Minimal time needed for condition 1: {times_condition_1.min()}\")\n",
    "print(f\"Maximal time needed for condition 1: {times_condition_1.max()}\")\n",
    "print(f\"Minimal time needed for condition 2: {times_condition_2.min()}\")\n",
    "print(f\"Maximal time needed for condition 2: {times_condition_2.max()}\")"
   ]
  },
  {
   "cell_type": "code",
   "execution_count": 46,
   "id": "false-posting",
   "metadata": {},
   "outputs": [
    {
     "name": "stdout",
     "output_type": "stream",
     "text": [
      "Mean condition 1: 8.162284851074219\n",
      "Standard deviation condition 1: 0.0\n",
      "Mean condition 2: 8.162284851074219\n",
      "Standard deviation condition 1: 0.0\n"
     ]
    }
   ],
   "source": [
    "print(f\"Mean for needed time at condition 1: {times_condition_1.mean()}\")\n",
    "print(f\"Standard deviation for needed time at condition 1: {times_condition_1.std()}\")\n",
    "print(f\"Mean for needed time at condition 2: {times_condition_2.mean()}\")\n",
    "print(f\"Standard deviation for needed time at condition 2: {times_condition_2.std()}\")"
   ]
  },
  {
   "cell_type": "code",
   "execution_count": 48,
   "id": "charming-proceeding",
   "metadata": {},
   "outputs": [
    {
     "data": {
      "text/plain": [
       "Text(0.5, 1.0, 'Times for condition B and A')"
      ]
     },
     "execution_count": 48,
     "metadata": {},
     "output_type": "execute_result"
    },
    {
     "data": {
      "image/png": "[encoded data removed]",
      "text/plain": [
       "<Figure size 432x288 with 1 Axes>"
      ]
     },
     "metadata": {
      "needs_background": "light"
     },
     "output_type": "display_data"
    }
   ],
   "source": [
    "ax = plt.axes()\n",
    "sns.boxplot(data=df_pointing_log, x=\"condition\", y=\"timeTillFinishedInS\")\n",
    "ax.set_ylabel(\"time needed in seconds\")\n",
    "ax.set_title(\"Times needed per condition\")"
   ]
  },
  {
   "cell_type": "markdown",
   "id": "cutting-piece",
   "metadata": {},
   "source": [
    "#### Overview of distribution for the amount of errors"
   ]
  },
  {
   "cell_type": "code",
   "execution_count": 54,
   "id": "personalized-privilege",
   "metadata": {},
   "outputs": [
    {
     "name": "stdout",
     "output_type": "stream",
     "text": [
      "Minimal amount of errors for condition 1: 0\n",
      "Maximal amount of errors for condition 1: 0\n",
      "Minimal amount of errors for condition 2: 0\n",
      "Maximal amount of errors for condition 2: 0\n"
     ]
    }
   ],
   "source": [
    "print(f\"Minimal amount of errors for condition 1: {errors_condition_1.min()}\")\n",
    "print(f\"Maximal amount of errors for condition 1: {errors_condition_1.max()}\")\n",
    "print(f\"Minimal amount of errors for condition 2: {errors_condition_2.min()}\")\n",
    "print(f\"Maximal amount of errors for condition 2: {errors_condition_2.max()}\")"
   ]
  },
  {
   "cell_type": "code",
   "execution_count": 52,
   "id": "northern-palace",
   "metadata": {},
   "outputs": [
    {
     "name": "stdout",
     "output_type": "stream",
     "text": [
      "Mean errors condition 1: 0.0\n",
      "Standard deviation errors condition 1: 0.0\n",
      "Mean errors condition 2: 0.0\n",
      "Standard deviation errors condition 2: 0.0\n"
     ]
    }
   ],
   "source": [
    "print(f\"Mean errors at condition 1: {errors_condition_1.mean()}\")\n",
    "print(f\"Standard deviation errors at condition 1: {errors_condition_1.std()}\")\n",
    "print(f\"Mean errors at condition 2: {errors_condition_2.mean()}\")\n",
    "print(f\"Standard deviation errors at condition 2: {errors_condition_2.std()}\")"
   ]
  },
  {
   "cell_type": "code",
   "execution_count": 49,
   "id": "tired-fleece",
   "metadata": {},
   "outputs": [
    {
     "data": {
      "text/plain": [
       "Text(0.5, 1.0, 'Number or errors for condition 1 and 2')"
      ]
     },
     "execution_count": 49,
     "metadata": {},
     "output_type": "execute_result"
    },
    {
     "data": {
      "image/png": "[encoded data removed]",
      "text/plain": [
       "<Figure size 432x288 with 1 Axes>"
      ]
     },
     "metadata": {
      "needs_background": "light"
     },
     "output_type": "display_data"
    }
   ],
   "source": [
    "ax = plt.axes()\n",
    "sns.boxplot(data=df_pointing_log, x=\"condition\", y=\"missedClickCount\")\n",
    "ax.set_ylabel(\"number of errors\")\n",
    "ax.set_title(\"Number or errors per condition\")"
   ]
  },
  {
   "cell_type": "markdown",
   "id": "juvenile-worse",
   "metadata": {},
   "source": [
    "#### T-Tests for time and errors:"
   ]
  },
  {
   "cell_type": "code",
   "execution_count": null,
   "id": "metric-married",
   "metadata": {},
   "outputs": [],
   "source": [
    "# TODO get mean values for the two conditions per pointing technique! "
   ]
  },
  {
   "cell_type": "code",
   "execution_count": 68,
   "id": "communist-being",
   "metadata": {},
   "outputs": [
    {
     "name": "stdout",
     "output_type": "stream",
     "text": [
      "The calculated t-statistic for the needed time is nan and the calculated two-tailed p-value is nan\n"
     ]
    }
   ],
   "source": [
    "(t_statistic, p_value) = ttest_ind(times_condition_1, times_condition_2)\n",
    "print(f\"The calculated t-statistic for the needed time is {t_statistic} and the calculated two-tailed p-value is {p_value}\")"
   ]
  },
  {
   "cell_type": "code",
   "execution_count": 69,
   "id": "postal-insulin",
   "metadata": {},
   "outputs": [
    {
     "name": "stdout",
     "output_type": "stream",
     "text": [
      "The calculated t-statistic for the amount of errors is nan and the calculated two-tailed p-value is nan\n"
     ]
    }
   ],
   "source": [
    "(t_statistic, p_value) = ttest_ind(errors_condition_1, errors_condition_2)\n",
    "print(f\"The calculated t-statistic for the amount of errors is {t_statistic} and the calculated two-tailed p-value is {p_value}\")"
   ]
  },
  {
   "cell_type": "code",
   "execution_count": 70,
   "id": "convinced-passenger",
   "metadata": {},
   "outputs": [
    {
     "name": "stdout",
     "output_type": "stream",
     "text": [
      "The calculated t-statistic for the needed time is nan and the calculated two-tailed p-value is nan\n"
     ]
    }
   ],
   "source": [
    "# TODO one sided p value?\n",
    "(t_statistic, p_value) = ttest_ind(times_condition_1, times_condition_2, alternative='greater')\n",
    "print(f\"The calculated t-statistic for the needed time is {t_statistic} and the calculated two-tailed p-value is {p_value}\")"
   ]
  },
  {
   "cell_type": "markdown",
   "id": "vietnamese-bouquet",
   "metadata": {},
   "source": [
    "## Discussion:"
   ]
  },
  {
   "cell_type": "markdown",
   "id": "quiet-chambers",
   "metadata": {},
   "source": []
  }
 ],
 "metadata": {
  "kernelspec": {
   "display_name": "Python 3",
   "language": "python",
   "name": "python3"
  },
  "language_info": {
   "codemirror_mode": {
    "name": "ipython",
    "version": 3
   },
   "file_extension": ".py",
   "mimetype": "text/x-python",
   "name": "python",
   "nbconvert_exporter": "python",
   "pygments_lexer": "ipython3",
   "version": "3.9.2"
  }
 },
 "nbformat": 4,
 "nbformat_minor": 5
}
